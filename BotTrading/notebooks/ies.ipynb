{
 "cells": [
  {
   "cell_type": "code",
   "execution_count": 67,
   "metadata": {},
   "outputs": [],
   "source": [
    "import pandas as pd \n",
    "import numpy as np \n",
    "from sklearn.model_selection import train_test_split\n",
    "from sklearn.linear_model import LinearRegression, LogisticRegression\n",
    "from sklearn.tree import DecisionTreeClassifier\n",
    "from sklearn.metrics import classification_report, confusion_matrix"
   ]
  },
  {
   "cell_type": "code",
   "execution_count": 49,
   "metadata": {},
   "outputs": [],
   "source": [
    "def lagit(df, langs):\n",
    "  for i in range(1, langs+1):\n",
    "    df['Lang_'+str(i)] = df['ret'].shift(i)\n",
    "  return ['Lang_'+str(i) for i in range(1, langs+1)]"
   ]
  },
  {
   "cell_type": "code",
   "execution_count": 48,
   "metadata": {},
   "outputs": [
    {
     "data": {
      "text/html": [
       "<div>\n",
       "<style scoped>\n",
       "    .dataframe tbody tr th:only-of-type {\n",
       "        vertical-align: middle;\n",
       "    }\n",
       "\n",
       "    .dataframe tbody tr th {\n",
       "        vertical-align: top;\n",
       "    }\n",
       "\n",
       "    .dataframe thead th {\n",
       "        text-align: right;\n",
       "    }\n",
       "</style>\n",
       "<table border=\"1\" class=\"dataframe\">\n",
       "  <thead>\n",
       "    <tr style=\"text-align: right;\">\n",
       "      <th></th>\n",
       "      <th>time</th>\n",
       "      <th>open</th>\n",
       "      <th>high</th>\n",
       "      <th>low</th>\n",
       "      <th>close</th>\n",
       "      <th>Volume</th>\n",
       "      <th>Volume MA</th>\n",
       "    </tr>\n",
       "  </thead>\n",
       "  <tbody>\n",
       "    <tr>\n",
       "      <th>1753</th>\n",
       "      <td>2010-01-04 08:00:00</td>\n",
       "      <td>1740.0</td>\n",
       "      <td>1743.5</td>\n",
       "      <td>1727.5</td>\n",
       "      <td>1730.651</td>\n",
       "      <td>177690.0</td>\n",
       "      <td>177690.0</td>\n",
       "    </tr>\n",
       "    <tr>\n",
       "      <th>1754</th>\n",
       "      <td>2010-01-05 08:00:00</td>\n",
       "      <td>1729.0</td>\n",
       "      <td>1747.0</td>\n",
       "      <td>1725.5</td>\n",
       "      <td>1737.951</td>\n",
       "      <td>222370.0</td>\n",
       "      <td>222370.0</td>\n",
       "    </tr>\n",
       "    <tr>\n",
       "      <th>1755</th>\n",
       "      <td>2010-01-06 08:00:00</td>\n",
       "      <td>1739.0</td>\n",
       "      <td>1746.5</td>\n",
       "      <td>1735.0</td>\n",
       "      <td>1740.271</td>\n",
       "      <td>226790.0</td>\n",
       "      <td>226790.0</td>\n",
       "    </tr>\n",
       "    <tr>\n",
       "      <th>1756</th>\n",
       "      <td>2010-01-07 08:00:00</td>\n",
       "      <td>1746.0</td>\n",
       "      <td>1756.5</td>\n",
       "      <td>1742.5</td>\n",
       "      <td>1748.761</td>\n",
       "      <td>289000.0</td>\n",
       "      <td>289000.0</td>\n",
       "    </tr>\n",
       "    <tr>\n",
       "      <th>1757</th>\n",
       "      <td>2010-01-08 08:00:00</td>\n",
       "      <td>1754.0</td>\n",
       "      <td>1758.5</td>\n",
       "      <td>1733.0</td>\n",
       "      <td>1736.495</td>\n",
       "      <td>269765.0</td>\n",
       "      <td>269765.0</td>\n",
       "    </tr>\n",
       "  </tbody>\n",
       "</table>\n",
       "</div>"
      ],
      "text/plain": [
       "                    time    open    high     low     close    Volume  \\\n",
       "1753 2010-01-04 08:00:00  1740.0  1743.5  1727.5  1730.651  177690.0   \n",
       "1754 2010-01-05 08:00:00  1729.0  1747.0  1725.5  1737.951  222370.0   \n",
       "1755 2010-01-06 08:00:00  1739.0  1746.5  1735.0  1740.271  226790.0   \n",
       "1756 2010-01-07 08:00:00  1746.0  1756.5  1742.5  1748.761  289000.0   \n",
       "1757 2010-01-08 08:00:00  1754.0  1758.5  1733.0  1736.495  269765.0   \n",
       "\n",
       "      Volume MA  \n",
       "1753   177690.0  \n",
       "1754   222370.0  \n",
       "1755   226790.0  \n",
       "1756   289000.0  \n",
       "1757   269765.0  "
      ]
     },
     "execution_count": 48,
     "metadata": {},
     "output_type": "execute_result"
    }
   ],
   "source": [
    "start_date = '2010-01-01'\n",
    "end_date =  '2023-02-08'\n",
    "df= pd.read_csv(\"E:\\\\Projetos\\\\BotTrading-Quantil\\\\BotTrading\\\\notebooks\\\\DOL1.csv\", parse_dates=['time'])\n",
    "df = df.loc[(df['time'] >= start_date) & (df['time'] <= end_date)]\n",
    "df.head()"
   ]
  },
  {
   "attachments": {},
   "cell_type": "markdown",
   "metadata": {},
   "source": [
    "**Manipulação para o modelo e predição do retorno dos dias anteriores**"
   ]
  },
  {
   "cell_type": "code",
   "execution_count": 50,
   "metadata": {},
   "outputs": [],
   "source": [
    "predicotors = ['open' , 'high', 'low', 'close', 'Volume', 'Volume MA']\n",
    "df['direction'] = (df['close'] > df['close'].shift(1)).astype(int)"
   ]
  },
  {
   "cell_type": "code",
   "execution_count": 51,
   "metadata": {},
   "outputs": [
    {
     "data": {
      "text/html": [
       "<div>\n",
       "<style scoped>\n",
       "    .dataframe tbody tr th:only-of-type {\n",
       "        vertical-align: middle;\n",
       "    }\n",
       "\n",
       "    .dataframe tbody tr th {\n",
       "        vertical-align: top;\n",
       "    }\n",
       "\n",
       "    .dataframe thead th {\n",
       "        text-align: right;\n",
       "    }\n",
       "</style>\n",
       "<table border=\"1\" class=\"dataframe\">\n",
       "  <thead>\n",
       "    <tr style=\"text-align: right;\">\n",
       "      <th></th>\n",
       "      <th>time</th>\n",
       "      <th>open</th>\n",
       "      <th>high</th>\n",
       "      <th>low</th>\n",
       "      <th>close</th>\n",
       "      <th>Volume</th>\n",
       "      <th>Volume MA</th>\n",
       "      <th>direction</th>\n",
       "    </tr>\n",
       "  </thead>\n",
       "  <tbody>\n",
       "    <tr>\n",
       "      <th>4993</th>\n",
       "      <td>2023-02-01 09:00:00</td>\n",
       "      <td>5091.0</td>\n",
       "      <td>5135.5</td>\n",
       "      <td>5065.5</td>\n",
       "      <td>5112.550</td>\n",
       "      <td>228800.0</td>\n",
       "      <td>228800.0</td>\n",
       "      <td>1</td>\n",
       "    </tr>\n",
       "    <tr>\n",
       "      <th>4994</th>\n",
       "      <td>2023-02-02 09:00:00</td>\n",
       "      <td>5050.0</td>\n",
       "      <td>5078.5</td>\n",
       "      <td>4963.5</td>\n",
       "      <td>5056.572</td>\n",
       "      <td>334135.0</td>\n",
       "      <td>334135.0</td>\n",
       "      <td>0</td>\n",
       "    </tr>\n",
       "    <tr>\n",
       "      <th>4995</th>\n",
       "      <td>2023-02-03 09:00:00</td>\n",
       "      <td>5120.0</td>\n",
       "      <td>5180.0</td>\n",
       "      <td>5079.5</td>\n",
       "      <td>5153.317</td>\n",
       "      <td>296025.0</td>\n",
       "      <td>296025.0</td>\n",
       "      <td>1</td>\n",
       "    </tr>\n",
       "    <tr>\n",
       "      <th>4996</th>\n",
       "      <td>2023-02-06 09:00:00</td>\n",
       "      <td>5190.0</td>\n",
       "      <td>5233.0</td>\n",
       "      <td>5160.0</td>\n",
       "      <td>5202.935</td>\n",
       "      <td>256735.0</td>\n",
       "      <td>256735.0</td>\n",
       "      <td>1</td>\n",
       "    </tr>\n",
       "    <tr>\n",
       "      <th>4997</th>\n",
       "      <td>2023-02-07 09:00:00</td>\n",
       "      <td>5163.0</td>\n",
       "      <td>5237.0</td>\n",
       "      <td>5151.5</td>\n",
       "      <td>5218.006</td>\n",
       "      <td>280820.0</td>\n",
       "      <td>280820.0</td>\n",
       "      <td>1</td>\n",
       "    </tr>\n",
       "  </tbody>\n",
       "</table>\n",
       "</div>"
      ],
      "text/plain": [
       "                    time    open    high     low     close    Volume  \\\n",
       "4993 2023-02-01 09:00:00  5091.0  5135.5  5065.5  5112.550  228800.0   \n",
       "4994 2023-02-02 09:00:00  5050.0  5078.5  4963.5  5056.572  334135.0   \n",
       "4995 2023-02-03 09:00:00  5120.0  5180.0  5079.5  5153.317  296025.0   \n",
       "4996 2023-02-06 09:00:00  5190.0  5233.0  5160.0  5202.935  256735.0   \n",
       "4997 2023-02-07 09:00:00  5163.0  5237.0  5151.5  5218.006  280820.0   \n",
       "\n",
       "      Volume MA  direction  \n",
       "4993   228800.0          1  \n",
       "4994   334135.0          0  \n",
       "4995   296025.0          1  \n",
       "4996   256735.0          1  \n",
       "4997   280820.0          1  "
      ]
     },
     "execution_count": 51,
     "metadata": {},
     "output_type": "execute_result"
    }
   ],
   "source": [
    "df.tail()"
   ]
  },
  {
   "cell_type": "code",
   "execution_count": 52,
   "metadata": {},
   "outputs": [],
   "source": [
    "df['ret'] = df.close.pct_change()\n",
    "lagit(df, 2)\n",
    "df['direction'] = np.where(df.ret > 0, 1, 0)"
   ]
  },
  {
   "cell_type": "code",
   "execution_count": 53,
   "metadata": {},
   "outputs": [
    {
     "data": {
      "text/html": [
       "<div>\n",
       "<style scoped>\n",
       "    .dataframe tbody tr th:only-of-type {\n",
       "        vertical-align: middle;\n",
       "    }\n",
       "\n",
       "    .dataframe tbody tr th {\n",
       "        vertical-align: top;\n",
       "    }\n",
       "\n",
       "    .dataframe thead th {\n",
       "        text-align: right;\n",
       "    }\n",
       "</style>\n",
       "<table border=\"1\" class=\"dataframe\">\n",
       "  <thead>\n",
       "    <tr style=\"text-align: right;\">\n",
       "      <th></th>\n",
       "      <th>time</th>\n",
       "      <th>open</th>\n",
       "      <th>high</th>\n",
       "      <th>low</th>\n",
       "      <th>close</th>\n",
       "      <th>Volume</th>\n",
       "      <th>Volume MA</th>\n",
       "      <th>direction</th>\n",
       "      <th>ret</th>\n",
       "      <th>Lang_1</th>\n",
       "      <th>Lang_2</th>\n",
       "    </tr>\n",
       "  </thead>\n",
       "  <tbody>\n",
       "    <tr>\n",
       "      <th>4993</th>\n",
       "      <td>2023-02-01 09:00:00</td>\n",
       "      <td>5091.0</td>\n",
       "      <td>5135.5</td>\n",
       "      <td>5065.5</td>\n",
       "      <td>5112.550</td>\n",
       "      <td>228800.0</td>\n",
       "      <td>228800.0</td>\n",
       "      <td>1</td>\n",
       "      <td>0.001629</td>\n",
       "      <td>-0.002172</td>\n",
       "      <td>0.001330</td>\n",
       "    </tr>\n",
       "    <tr>\n",
       "      <th>4994</th>\n",
       "      <td>2023-02-02 09:00:00</td>\n",
       "      <td>5050.0</td>\n",
       "      <td>5078.5</td>\n",
       "      <td>4963.5</td>\n",
       "      <td>5056.572</td>\n",
       "      <td>334135.0</td>\n",
       "      <td>334135.0</td>\n",
       "      <td>0</td>\n",
       "      <td>-0.010949</td>\n",
       "      <td>0.001629</td>\n",
       "      <td>-0.002172</td>\n",
       "    </tr>\n",
       "    <tr>\n",
       "      <th>4995</th>\n",
       "      <td>2023-02-03 09:00:00</td>\n",
       "      <td>5120.0</td>\n",
       "      <td>5180.0</td>\n",
       "      <td>5079.5</td>\n",
       "      <td>5153.317</td>\n",
       "      <td>296025.0</td>\n",
       "      <td>296025.0</td>\n",
       "      <td>1</td>\n",
       "      <td>0.019133</td>\n",
       "      <td>-0.010949</td>\n",
       "      <td>0.001629</td>\n",
       "    </tr>\n",
       "    <tr>\n",
       "      <th>4996</th>\n",
       "      <td>2023-02-06 09:00:00</td>\n",
       "      <td>5190.0</td>\n",
       "      <td>5233.0</td>\n",
       "      <td>5160.0</td>\n",
       "      <td>5202.935</td>\n",
       "      <td>256735.0</td>\n",
       "      <td>256735.0</td>\n",
       "      <td>1</td>\n",
       "      <td>0.009628</td>\n",
       "      <td>0.019133</td>\n",
       "      <td>-0.010949</td>\n",
       "    </tr>\n",
       "    <tr>\n",
       "      <th>4997</th>\n",
       "      <td>2023-02-07 09:00:00</td>\n",
       "      <td>5163.0</td>\n",
       "      <td>5237.0</td>\n",
       "      <td>5151.5</td>\n",
       "      <td>5218.006</td>\n",
       "      <td>280820.0</td>\n",
       "      <td>280820.0</td>\n",
       "      <td>1</td>\n",
       "      <td>0.002897</td>\n",
       "      <td>0.009628</td>\n",
       "      <td>0.019133</td>\n",
       "    </tr>\n",
       "  </tbody>\n",
       "</table>\n",
       "</div>"
      ],
      "text/plain": [
       "                    time    open    high     low     close    Volume  \\\n",
       "4993 2023-02-01 09:00:00  5091.0  5135.5  5065.5  5112.550  228800.0   \n",
       "4994 2023-02-02 09:00:00  5050.0  5078.5  4963.5  5056.572  334135.0   \n",
       "4995 2023-02-03 09:00:00  5120.0  5180.0  5079.5  5153.317  296025.0   \n",
       "4996 2023-02-06 09:00:00  5190.0  5233.0  5160.0  5202.935  256735.0   \n",
       "4997 2023-02-07 09:00:00  5163.0  5237.0  5151.5  5218.006  280820.0   \n",
       "\n",
       "      Volume MA  direction       ret    Lang_1    Lang_2  \n",
       "4993   228800.0          1  0.001629 -0.002172  0.001330  \n",
       "4994   334135.0          0 -0.010949  0.001629 -0.002172  \n",
       "4995   296025.0          1  0.019133 -0.010949  0.001629  \n",
       "4996   256735.0          1  0.009628  0.019133 -0.010949  \n",
       "4997   280820.0          1  0.002897  0.009628  0.019133  "
      ]
     },
     "execution_count": 53,
     "metadata": {},
     "output_type": "execute_result"
    }
   ],
   "source": [
    "df.tail()"
   ]
  },
  {
   "cell_type": "code",
   "execution_count": 55,
   "metadata": {},
   "outputs": [],
   "source": [
    "features = lagit(df, 3)"
   ]
  },
  {
   "cell_type": "code",
   "execution_count": 58,
   "metadata": {},
   "outputs": [],
   "source": [
    "df.dropna(inplace=True)"
   ]
  },
  {
   "cell_type": "code",
   "execution_count": 61,
   "metadata": {},
   "outputs": [],
   "source": [
    "X = df[features]\n",
    "y = df['direction']"
   ]
  },
  {
   "cell_type": "code",
   "execution_count": 62,
   "metadata": {},
   "outputs": [],
   "source": [
    "X_train, X_test, y_train, y_test = train_test_split(X, y, shuffle=False, test_size=0.3)"
   ]
  },
  {
   "cell_type": "code",
   "execution_count": 70,
   "metadata": {},
   "outputs": [],
   "source": [
    "from keras.models import Sequential\n",
    "from keras.layers import Dense\n"
   ]
  },
  {
   "cell_type": "code",
   "execution_count": null,
   "metadata": {},
   "outputs": [],
   "source": [
    "model = Sequential()\n",
    "model.add(Dense(units=50, activation='relu', input_dim=X_train.shape[1]))\n",
    "model.add(Dense(units=25, activation='relu'))\n",
    "model.add(Dense(units=10, activation='relu'))\n",
    "model.add(Dense(units=1, activation='sigmoid'))\n",
    "model.compile(loss='binary_crossentropy', optimizer='adam', metrics=['accuracy'])\n",
    "model.fit(X_train, y_train, batch_size=32, epochs=100, validation_split=0.2)\n"
   ]
  },
  {
   "cell_type": "code",
   "execution_count": 82,
   "metadata": {},
   "outputs": [
    {
     "name": "stdout",
     "output_type": "stream",
     "text": [
      "Score: [0.6927942633628845, 0.5354573726654053]\n"
     ]
    }
   ],
   "source": [
    "score = model.evaluate(X_test, y_test, verbose=0)\n",
    "print(\"Score:\", score)\n"
   ]
  }
 ],
 "metadata": {
  "kernelspec": {
   "display_name": "venv",
   "language": "python",
   "name": "python3"
  },
  "language_info": {
   "codemirror_mode": {
    "name": "ipython",
    "version": 3
   },
   "file_extension": ".py",
   "mimetype": "text/x-python",
   "name": "python",
   "nbconvert_exporter": "python",
   "pygments_lexer": "ipython3",
   "version": "3.10.10"
  },
  "orig_nbformat": 4
 },
 "nbformat": 4,
 "nbformat_minor": 2
}
